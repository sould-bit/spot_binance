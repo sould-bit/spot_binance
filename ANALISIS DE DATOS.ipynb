{
 "cells": [
  {
   "cell_type": "markdown",
   "metadata": {},
   "source": [
    "# ANALISIS DE ESTRATEGUIA \n",
    "## DESCRIPCION\n",
    "QUE PREGUNTAS RESPONDER ?\n",
    "-  QUE PRAMETROS SON MAS OPTIMOS , SEGUN  EL PORCENTAGE DE CAIDA \n",
    "- QUE % CAIDA REPRESENTA EN AMBOS ESCENARIOS PARA 1 Y DOS MESES\n",
    "\n",
    "- CANTIDAD DE ORDENES DE SEGURIDAD \n",
    "- TAMAÑO DE LA ORDEN INICIAL , Y TAMAÑO DE LA ORDEN DE SEGURIDAD CON UN LIMITE DE 250 DOLARES\n",
    "- QUE TANTO AFECTA EL UMBRAL DE ACTIVACION ,  QUE PUNTO DEL RSI ES MAS RECOMENTABLE  EN LA TEMPORALIDAD \n",
    "\n",
    "\n",
    "\n",
    "# DISCLAIMER \n",
    "un enfoque mas realista , es evaluar las estrateguia en tempo de 1 minuto\n",
    "esto se hace devido a que los puntos de venta y compra  ya que los datos que se cargan en el backtesting , son puntos especificos de cierre, lo  que significa que 1 minuto es lo mas similar al en vivo "
   ]
  },
  {
   "cell_type": "markdown",
   "metadata": {},
   "source": [
    "-----------------------------------------\n",
    "# DATOS ENCONTRADOS EN LOS ANALISIS \n",
    "- UNA POSICION , INICIAL ALTA  PROMEDIAR POSICIONES  CON TAMAÑOS BAJOS NO FUNCIONA CON LOS PARAMETROS \n",
    "\n",
    "- POR EL CONTRARIO ,\n",
    "SE LOGRO EVIDENCIAR  QUE EMPEZAR CON UNA POSICION MENOR , Y PROMEDIAR CON POSICIONES ALTAS , GENERA POSIBLES MAS RENDIMIENTO , EN UNIDADES \n",
    "SE NOTA , UNA REDUCCION ORDENES DE SEGURIDAD \n",
    "\n",
    "\n",
    "- ME HE DADO CUENTA , QUE  POSIBLEMENTE AUNQUE CAMBIE LAS VARIABLES  ADEMAS DEL PORCENTAGE  EL RESULTADO EN EL ESCENARIO SERIA MUY SIMILAR \n"
   ]
  },
  {
   "cell_type": "code",
   "execution_count": null,
   "metadata": {},
   "outputs": [],
   "source": []
  },
  {
   "cell_type": "markdown",
   "metadata": {},
   "source": [
    "------------------------------------\n",
    "## PARAMETROS A EVALUAR :\n",
    " - size=10,\n",
    "- size_segurity=15,\n",
    "- umbral_activation=30,\n",
    "- ordenes_seguridad=16,\n",
    "- riesgo_seguridad=-3,\n",
    "- target=2.1\n",
    "\n",
    "### EL CAPITAL TOTAL NESESARIO :\n",
    "- DEL PRIMER CICLO FUE DE 240.3 USD\n",
    "## EL PORCENTAGE DE CAIDA TENIENDO EN CUENTA , EL LOW(PUNTO MAS BAJO) DEL PRECIO \n",
    "ECSENARIO\n",
    "- 11.91% RETROCESO, \n",
    "- VELAS DE 1 MINUTO \n",
    "- 16 - 17 DIAS ENTRE EL CICLO\n",
    " \n",
    "![Alt text](image.png)"
   ]
  },
  {
   "cell_type": "markdown",
   "metadata": {},
   "source": [
    "-------------------------------------------------------------------------------------------------------------------------------------------------\n",
    "## PARAMETROS A EVALUAR :\n",
    " - size=10,\n",
    "- size_segurity=15,\n",
    "- umbral_activation=30,\n",
    "- ordenes_seguridad=16,\n",
    "- riesgo_seguridad=-3,\n",
    "- target=2.1\n",
    "\n",
    "### EL CAPITAL TOTAL NESESARIO :\n",
    "- DEL SEGUNDO CICLO FUE DE 194.2 USD\n",
    "## EL PORCENTAGE DE CAIDA TENIENDO EN CUENTA , EL LOW(PUNTO MAS BAJO) DEL PRECIO \n",
    "ESCENARIO\n",
    "- 10.05% \n",
    "- VELAS DE 1 MINUTO \n",
    "- 13 DIAS ENTRE EL CICLO\n",
    "\n",
    "![Alt text](image-1.png)"
   ]
  },
  {
   "cell_type": "markdown",
   "metadata": {},
   "source": [
    "----------------------\n",
    "# EVALUACION DE LA VARIABLE PORCENTAGE (TARGET)\n"
   ]
  },
  {
   "cell_type": "code",
   "execution_count": 22,
   "metadata": {},
   "outputs": [
    {
     "data": {
      "text/plain": [
       "[2]"
      ]
     },
     "execution_count": 22,
     "metadata": {},
     "output_type": "execute_result"
    }
   ],
   "source": [
    "![Gráfico con estilo 538]"
   ]
  }
 ],
 "metadata": {
  "kernelspec": {
   "display_name": "spot_binance",
   "language": "python",
   "name": "python3"
  },
  "language_info": {
   "codemirror_mode": {
    "name": "ipython",
    "version": 3
   },
   "file_extension": ".py",
   "mimetype": "text/x-python",
   "name": "python",
   "nbconvert_exporter": "python",
   "pygments_lexer": "ipython3",
   "version": "3.11.3"
  },
  "orig_nbformat": 4
 },
 "nbformat": 4,
 "nbformat_minor": 2
}
